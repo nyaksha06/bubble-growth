{
  "nbformat": 4,
  "nbformat_minor": 0,
  "metadata": {
    "colab": {
      "provenance": []
    },
    "kernelspec": {
      "name": "python3",
      "display_name": "Python 3"
    },
    "language_info": {
      "name": "python"
    }
  },
  "cells": [
    {
      "cell_type": "code",
      "execution_count": null,
      "metadata": {
        "id": "wh5cbPAaJVDa"
      },
      "outputs": [],
      "source": [
        "import math\n",
        "\n",
        "Jb=\t17.3\n",
        "HeatFlux=232.3\n",
        "K=0.680667398248\n",
        "density=\t954.33856080746\n",
        "SpeHeat=4.2239131073029\n",
        "Tsat=16\n",
        "\n",
        "a=(K/(density*SpeHeat))\n",
        "t=(K*Tsat*K*Tsat)/(SpeHeat*SpeHeat*3.14*a)\n",
        "term= math.sqrt(3.14*a*t)\n",
        "b=2/3.14"
      ]
    },
    {
      "cell_type": "code",
      "source": [
        "dia= b*(2*(1- SpeHeat*term/(K*Tsat*2))*term)"
      ],
      "metadata": {
        "id": "vCWmwx8PM2fh"
      },
      "execution_count": null,
      "outputs": []
    },
    {
      "cell_type": "code",
      "source": [],
      "metadata": {
        "colab": {
          "base_uri": "https://localhost:8080/"
        },
        "id": "nwXg6m0QNkcm",
        "outputId": "2aa3aa42-4c69-43b1-a497-aa6602c08e54"
      },
      "execution_count": null,
      "outputs": [
        {
          "output_type": "stream",
          "name": "stdout",
          "text": [
            "1.642253910135346\n",
            "12538.129864631917\n"
          ]
        }
      ]
    },
    {
      "cell_type": "code",
      "source": [
        "import csv\n",
        "import math\n",
        "\n",
        "data = []\n",
        "\n",
        "def cal(Jb, HeatFlux, K, density, SpeHeat, Tsat):\n",
        "    a = K / (density * SpeHeat)\n",
        "    Tmax = (K * Tsat * K * Tsat) / (SpeHeat * SpeHeat * 3.14 * a)\n",
        "    print(Tmax)\n",
        "\n",
        "    b = 2 / 3.14\n",
        "    t = 50\n",
        "    while t < 1.4*Tmax:\n",
        "        term = math.sqrt(3.14 * a * t)\n",
        "        dia = b*(2 * (1 - SpeHeat * term / (K * Tsat * 2)) * term)\n",
        "        data.append([dia, t/1000])\n",
        "        t += 50\n",
        "\n",
        "# Example usage\n",
        "cal(17.3,\t334.2,0.68111245472217,\t952.96736296148,\t4.2264889179635, 16.6)\n",
        "\n",
        "# Write data to CSV file\n",
        "csv_file_path = 'output.csv'\n",
        "\n",
        "with open(csv_file_path, 'w', newline='') as csv_file:\n",
        "    csv_writer = csv.writer(csv_file)\n",
        "    csv_writer.writerow(['Diameter', 'Time'])  # Writing header\n",
        "    csv_writer.writerows(data)\n",
        "\n",
        "print(f'Data has been written to {csv_file_path}.')\n"
      ],
      "metadata": {
        "colab": {
          "base_uri": "https://localhost:8080/"
        },
        "id": "nttUbvqPNmnO",
        "outputId": "ced16dcd-beaf-45b4-d40a-a0b575b77808"
      },
      "execution_count": null,
      "outputs": [
        {
          "output_type": "stream",
          "name": "stdout",
          "text": [
            "13477.323174403085\n",
            "Data has been written to output.csv.\n"
          ]
        }
      ]
    },
    {
      "cell_type": "code",
      "source": [
        "import csv\n",
        "import math\n",
        "\n",
        "data = []\n",
        "\n",
        "def cal(Jb,conductivity,density,speHeat,Tw,Dmean,Dstd):\n",
        "\n",
        "  Tmax = (Dmean+Dstd)*(Dmean+Dstd)*3.14*density*speHeat/(4*Jb*Jb*12*conductivity)\n",
        "  t= (Dmean-Dstd)*(Dmean-Dstd)*3.14*density*speHeat/(4*Jb*Jb*12*conductivity)\n",
        "\n",
        "\n",
        "  while t < Tmax:\n",
        "    dia=2*Jb*math.sqrt(12*conductivity*t/(3.12*density*speHeat))\n",
        "    data.append([dia, t/1000])\n",
        "    t += 50\n",
        "\n",
        "\n",
        "\n",
        "\n",
        "cal(41.22,0.67897156937225,958.63688967603,4.2161494308387,13.8,1.7,0.22)\n",
        "\n",
        "csv_file_path = 'output.csv'\n",
        "\n",
        "with open(csv_file_path, 'w', newline='') as csv_file:\n",
        "    csv_writer = csv.writer(csv_file)\n",
        "    csv_writer.writerow(['Diameter', 'Time'])  # Writing header\n",
        "    csv_writer.writerows(data)\n",
        "\n",
        "print(f'Data has been written to {csv_file_path}.')\n"
      ],
      "metadata": {
        "id": "hf-26D6YSaa2",
        "colab": {
          "base_uri": "https://localhost:8080/"
        },
        "outputId": "f8fca076-226c-4a09-cf68-32931b85d1b0"
      },
      "execution_count": null,
      "outputs": [
        {
          "output_type": "stream",
          "name": "stdout",
          "text": [
            "Data has been written to output.csv.\n"
          ]
        }
      ]
    },
    {
      "cell_type": "code",
      "source": [
        "import csv\n",
        "import math\n",
        "\n",
        "data = []\n",
        "\n",
        "def cal2(Jb,conductivity,density,speHeat,Tw,Dmean,Dstd):\n",
        "    Tmax = (Dmean+Dstd)*(Dmean+Dstd)*3.14*density*speHeat/(4*Jb*Jb*12*conductivity)\n",
        "    # t= (Dmean-Dstd)*(Dmean-Dstd)*3.14*density*speHeat/(4*Jb*Jb*12*conductivity)\n",
        "    t=0\n",
        "    # print(10*Tmax,10*t)\n",
        "    while t < Tmax:\n",
        "      dia=2*Jb*math.sqrt(12*conductivity*t/(3.12*density*speHeat))\n",
        "      data.append([dia, 10*t])\n",
        "      t += 0.0050\n",
        "\n",
        "\n",
        "\n",
        "# Example usage\n",
        "cal2(2.42,0.67695127783787,897.13787372309,4.3705447950305,5.2,0.02,0.00)\n",
        "\n",
        "# Write data to CSV file\n",
        "csv_file_path = 'output.csv'\n",
        "\n",
        "with open(csv_file_path, 'w', newline='') as csv_file:\n",
        "    csv_writer = csv.writer(csv_file)\n",
        "    csv_writer.writerow(['Diameter', 'Time'])  # Writing header\n",
        "    csv_writer.writerows(data)\n",
        "\n",
        "print(f'Data has been written to {csv_file_path}.')\n"
      ],
      "metadata": {
        "id": "t-67HmPD0xhh",
        "colab": {
          "base_uri": "https://localhost:8080/"
        },
        "outputId": "fede23e6-5828-4f9b-e422-00c220638e95"
      },
      "execution_count": null,
      "outputs": [
        {
          "output_type": "stream",
          "name": "stdout",
          "text": [
            "Data has been written to output.csv.\n"
          ]
        }
      ]
    },
    {
      "cell_type": "code",
      "source": [
        "import csv\n",
        "import math\n",
        "\n",
        "data = []\n",
        "\n",
        "def cal(Jb,  K, density, SpeHeat,dmax):\n",
        "\n",
        "\n",
        "    b = 2 / 3.14\n",
        "    t = 50\n",
        "    Dia=0\n",
        "    while Dia <= dmax:\n",
        "        term = math.sqrt(K * t/(density*SpeHeat))\n",
        "        dia = 4*b*term/math.sqrt(3.12)\n",
        "        Dia=max(Dia,dia)\n",
        "        data.append([dia, t/1000])\n",
        "        t += 50\n",
        "\n",
        "# Example usage\n",
        "cal(2.9,0.67265672110173,885.29329218588,4.4117698736457,0.18)\n",
        "\n",
        "# Write data to CSV file\n",
        "csv_file_path = 'output.csv'\n",
        "\n",
        "with open(csv_file_path, 'w', newline='') as csv_file:\n",
        "    csv_writer = csv.writer(csv_file)\n",
        "    csv_writer.writerow(['Diameter', 'Time'])  # Writing header\n",
        "    csv_writer.writerows(data)\n",
        "\n",
        "print(f'Data has been written to {csv_file_path}.')\n"
      ],
      "metadata": {
        "colab": {
          "base_uri": "https://localhost:8080/"
        },
        "id": "_2ltrQpH4xxR",
        "outputId": "2ba02939-03af-49b6-f7d4-ff059451b89d"
      },
      "execution_count": null,
      "outputs": [
        {
          "output_type": "stream",
          "name": "stdout",
          "text": [
            "Data has been written to output.csv.\n"
          ]
        }
      ]
    },
    {
      "cell_type": "code",
      "source": [],
      "metadata": {
        "id": "NVnw7-_h51NA"
      },
      "execution_count": null,
      "outputs": []
    }
  ]
}